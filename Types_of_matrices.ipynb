{
 "cells": [
  {
   "cell_type": "code",
   "execution_count": 1,
   "metadata": {},
   "outputs": [],
   "source": [
    "import numpy\n"
   ]
  },
  {
   "cell_type": "markdown",
   "metadata": {},
   "source": [
    "## Square matrices\n",
    "\n",
    "A square matrix is where the number of columns and the number of rows are the same\n",
    "\n",
    "${n \\equiv m} $\n",
    "\n",
    "$$ {A} = \\begin{pmatrix} (a_{1,1},a_{1,2},a_{1,3})\\\\ (a_{2,1,},a_{2,2},a_{2,3}) \\\\ (a_{3,1},a_{3,2},a_{3,3})  \\end{pmatrix}$$\n",
    "\n",
    "Why this is important is that these are readily added or rotated( like for images in preprocessing)"
   ]
  },
  {
   "cell_type": "markdown",
   "metadata": {},
   "source": [
    "## Symmetric matrices\n",
    "The top right triangle and the bottom left triange are the same, this means that the matrix transpose is the same as the oririnal matrix\n",
    "\n",
    "$$ {A} = \\begin{pmatrix} (1 \\ 2 \\ 3 \\ 4  \\ 5)\\\\ (2 \\ 1 \\ 2 \\ 3 \\ 4)  \\\\ (3 \\ 2 \\ 1 \\ 2 \\ 3) \\\\ (4 \\ 3 \\ 2 \\ 1 \\ 2) \\\\ (5 \\ 4 \\ 3 \\ 2 \\ 1) \\end{pmatrix}$$\n",
    "\n",
    "\n",
    "$ A = A^T$\n",
    "\n",
    "if you notice, the middle row has th e same value( but not always)"
   ]
  },
  {
   "cell_type": "markdown",
   "metadata": {},
   "source": [
    "## Triangular matrices\n",
    "\n",
    "A triangular matrix is a matrix where all of the values are in the upper right part of the trianlge or the lower left"
   ]
  },
  {
   "cell_type": "code",
   "execution_count": 3,
   "metadata": {},
   "outputs": [
    {
     "name": "stdout",
     "output_type": "stream",
     "text": [
      "[[1 0 0]\n",
      " [1 2 0]\n",
      " [1 2 3]]\n",
      "[[1 2 3]\n",
      " [0 2 3]\n",
      " [0 0 3]]\n"
     ]
    }
   ],
   "source": [
    "# triangular matrices\n",
    "from numpy import array\n",
    "from numpy import tril # lower left\n",
    "from numpy import triu # upper right\n",
    "\n",
    "M = array([\n",
    "[1, 2, 3],\n",
    "[1, 2, 3],\n",
    "[1, 2, 3]])\n",
    "\n",
    "#lets print the lower left matrix\n",
    "print(tril(M))\n",
    "\n",
    "# now lets print the upper right\n",
    "print(triu(M))"
   ]
  },
  {
   "cell_type": "markdown",
   "metadata": {},
   "source": [
    "## Diagnal matrices\n",
    "\n",
    "For a diagonal matrix, all values outside of the main diagonal (top left to bottom right) are 0. On the main diagonal, all the values can be produced as a vector\n"
   ]
  },
  {
   "cell_type": "code",
   "execution_count": 8,
   "metadata": {},
   "outputs": [
    {
     "name": "stdout",
     "output_type": "stream",
     "text": [
      "[1 2 3]\n",
      "[[1 0 0]\n",
      " [0 2 0]\n",
      " [0 0 3]]\n"
     ]
    }
   ],
   "source": [
    "from numpy import diag\n",
    "M = array([\n",
    "[1, 0, 0],\n",
    "[0, 2, 0],\n",
    "[0, 0, 3]])\n",
    "\n",
    "# Lets extract the diagonal\n",
    "\n",
    "diag_vector = diag(M)\n",
    "\n",
    "print(diag_vector)\n",
    "# And in the opposite direction lets make the vector back into a diagonal matrix\n",
    "\n",
    "back_into_matrix = diag(diag_vector)\n",
    "\n",
    "print(back_into_matrix)"
   ]
  }
 ],
 "metadata": {
  "kernelspec": {
   "display_name": "Python 3",
   "language": "python",
   "name": "python3"
  },
  "language_info": {
   "codemirror_mode": {
    "name": "ipython",
    "version": 3
   },
   "file_extension": ".py",
   "mimetype": "text/x-python",
   "name": "python",
   "nbconvert_exporter": "python",
   "pygments_lexer": "ipython3",
   "version": "3.6.10"
  }
 },
 "nbformat": 4,
 "nbformat_minor": 4
}
