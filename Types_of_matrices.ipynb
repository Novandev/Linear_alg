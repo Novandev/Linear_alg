{
 "cells": [
  {
   "cell_type": "code",
   "execution_count": 1,
   "metadata": {},
   "outputs": [],
   "source": [
    "import numpy\n"
   ]
  },
  {
   "cell_type": "markdown",
   "metadata": {},
   "source": [
    "## Square matrices\n",
    "\n",
    "A square matrix is where the number of columns and the number of rows are the same\n",
    "\n",
    "${n \\equiv m} $\n",
    "\n",
    "$$ {A} = \\begin{pmatrix} (a_{1,1},a_{1,2},a_{1,3})\\\\ (a_{2,1,},a_{2,2},a_{2,3}) \\\\ (a_{3,1},a_{3,2},a_{3,3})  \\end{pmatrix}$$\n",
    "\n",
    "Why this is important is that these are readily added or rotated( like for images in preprocessing)"
   ]
  },
  {
   "cell_type": "markdown",
   "metadata": {},
   "source": [
    "## Symmetric matrices\n",
    "The top right triangle and the bottom left triange are the same, this means that the matrix transpose is the same as the oririnal matrix\n",
    "\n",
    "$$ {A} = \\begin{pmatrix} (1 \\ 2 \\ 3 \\ 4  \\ 5)\\\\ (2 \\ 1 \\ 2 \\ 3 \\ 4)  \\\\ (3 \\ 2 \\ 1 \\ 2 \\ 3) \\\\ (4 \\ 3 \\ 2 \\ 1 \\ 2) \\\\ (5 \\ 4 \\ 3 \\ 2 \\ 1) \\end{pmatrix}$$\n",
    "\n",
    "\n",
    "$ A = A^T$"
   ]
  },
  {
   "cell_type": "code",
   "execution_count": null,
   "metadata": {},
   "outputs": [],
   "source": []
  }
 ],
 "metadata": {
  "kernelspec": {
   "display_name": "Python 3",
   "language": "python",
   "name": "python3"
  },
  "language_info": {
   "codemirror_mode": {
    "name": "ipython",
    "version": 3
   },
   "file_extension": ".py",
   "mimetype": "text/x-python",
   "name": "python",
   "nbconvert_exporter": "python",
   "pygments_lexer": "ipython3",
   "version": "3.6.10"
  }
 },
 "nbformat": 4,
 "nbformat_minor": 4
}
