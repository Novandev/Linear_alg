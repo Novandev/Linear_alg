{
 "cells": [
  {
   "cell_type": "markdown",
   "metadata": {},
   "source": [
    "# Matrices!"
   ]
  },
  {
   "cell_type": "markdown",
   "metadata": {},
   "source": [
    "Defined as a two dimensional array fo scalar values with one or more columns or one or more  rows\n",
    "\n",
    "Matrices are usually denoted by an uppercase letter in this case A and entris are usually denoted by subscripts \n",
    "\n",
    "row($i$) and column($_j$)\n",
    "\n",
    "With combined you get \n",
    "\n",
    "$A=((a_{1,1},a_{1,2}),(a_{2,1,},a_{2,2}),(a_{3,1}.a_{3,2}))$\n",
    "$$ {A} = \\begin{pmatrix} (a_{1,1},a_{1,2})\\\\ (a_{2,1,},a_{2,2}) \\\\ (a_{3,1}.a_{3,2})  \\end{pmatrix}$$\n",
    "\n"
   ]
  },
  {
   "cell_type": "markdown",
   "metadata": {},
   "source": [
    "## Matrix to Matrix Operations (Assumes matrices have the same dimensions)"
   ]
  },
  {
   "cell_type": "markdown",
   "metadata": {},
   "source": [
    "## Matrix Addition\n",
    "\n",
    "Can only add  matrices with the same rows and columns ${m} \\times {n}$\n",
    "\n",
    "\n",
    "${C} = {A} + {B}$\n",
    "$$ {A} = \\begin{pmatrix} (a_{1,1},a_{1,2})\\\\ (a_{2,1,},a_{2,2}) \\\\ (a_{3,1},a_{3,2})  \\end{pmatrix}$$\n",
    "$$ {B} = \\begin{pmatrix} (b_{1,1},b_{1,2})\\\\ (b_{2,1,},b_{2,2}) \\\\ (b_{3,1},b_{3,2})  \\end{pmatrix}$$\n",
    "\n",
    "${C} =\\begin{pmatrix} (a_{1,1}+ b_{1,1}),(a_{1,2}+ b_{1,2})\\\\ (a_{2,1,}+b_{2,1}),(a_{2,2,}+b_{2,2}) \\\\ (a_{3,2}+b_{3,2}),(a_{3,3}+b_{3,3})   \\end{pmatrix} $\n",
    "\n",
    "\n",
    "\n",
    "OR\n",
    "\n",
    "$C[0, 0] = A[0, 0] + B[0, 0]$\n",
    "\n",
    "$C[1, 0] = A[1, 0] + B[1, 0]$\n",
    "\n",
    "$C[2, 0] = A[2, 0] + B[2, 0]$\n",
    "\n",
    "$C[0, 1] = A[0, 1] + B[0, 1]$\n",
    "\n",
    "$C[1, 1] = A[1, 1] + B[1, 1]$\n",
    "\n",
    "$C[2, 1] = A[2, 1] + B[2, 1]$"
   ]
  },
  {
   "cell_type": "code",
   "execution_count": 6,
   "metadata": {},
   "outputs": [],
   "source": [
    "import numpy as np\n",
    "A = np.array([[1,2,3],[4,6,9],[7,8,9]])\n",
    "B = np.array([[1,2,3],[4,6,9],[7,8,9]])\n",
    "\n",
    "C = A + B"
   ]
  },
  {
   "cell_type": "markdown",
   "metadata": {},
   "source": [
    "## Matrix Subtraction\n",
    "\n",
    "\n",
    "A matrix can only be subtracted like above if they have the same dimensions\n",
    "\n",
    "\n",
    "${C} = {A} + {B}$\n",
    "$$ {A} = \\begin{pmatrix} (a_{1,1},a_{1,2})\\\\ (a_{2,1,},a_{2,2}) \\\\ (a_{3,1},a_{3,2})  \\end{pmatrix}$$\n",
    "$$ {B} = \\begin{pmatrix} (b_{1,1},b_{1,2})\\\\ (b_{2,1,},b_{2,2}) \\\\ (b_{3,1},b_{3,2})  \\end{pmatrix}$$\n",
    "\n",
    "${C} =\\begin{pmatrix} (a_{1,1}- b_{1,1}),(a_{1,2}- b_{1,2})\\\\ (a_{2,1,}- b_{2,1}),(a_{2,2,}- b_{2,2}) \\\\ (a_{3,2}- b_{3,2}),(a_{3,3}- b_{3,3})   \\end{pmatrix} $\n",
    "\n",
    "\n",
    "\n",
    "OR\n",
    "\n",
    "$C[0, 0] = A[0, 0] - B[0, 0]$\n",
    "\n",
    "$C[1, 0] = A[1, 0] - B[1, 0]$\n",
    "\n",
    "$C[2, 0] = A[2, 0] - B[2, 0]$\n",
    "\n",
    "$C[0, 1] = A[0, 1] - B[0, 1]$\n",
    "\n",
    "$C[1, 1] = A[1, 1] - B[1, 1]$\n",
    "\n",
    "$C[2, 1] = A[2, 1] - B[2, 1]$"
   ]
  },
  {
   "cell_type": "code",
   "execution_count": 5,
   "metadata": {},
   "outputs": [],
   "source": [
    "import numpy as np\n",
    "A = np.array([[1,2,3],[4,6,9],[7,8,9]])\n",
    "B = np.array([[1,2,3],[4,6,9],[7,8,9]])\n",
    "\n",
    "C = A - B\n"
   ]
  },
  {
   "cell_type": "markdown",
   "metadata": {},
   "source": [
    "## Matrix Multiplication\n",
    "\n",
    "There are two ways to multiply:\n",
    "\n",
    "## Hadamard Product\n",
    "\n",
    "The first uncommon one is the Hadamard product of two vectors which follows the rules above that they must have the same  number of\n",
    "\n",
    "\n",
    "${C} = {A} \\circ {B}$\n",
    "$$ {A} = \\begin{pmatrix} (a_{1,1},a_{1,2})\\\\ (a_{2,1,},a_{2,2}) \\\\ (a_{3,1},a_{3,2})  \\end{pmatrix}$$\n",
    "$$ {B} = \\begin{pmatrix} (b_{1,1},b_{1,2})\\\\ (b_{2,1,},b_{2,2}) \\\\ (b_{3,1},b_{3,2})  \\end{pmatrix}$$\n",
    "\n",
    "${C} =\\begin{pmatrix} (a_{1,1}\\times b_{1,1}),(a_{1,2}\\times b_{1,2})\\\\ (a_{2,1,} \\times b_{2,1}),(a_{2,2,} \\times b_{2,2}) \\\\ (a_{3,2} \\times b_{3,2}),(a_{3,3} \\times b_{3,3})   \\end{pmatrix} $\n",
    "\n",
    "\n",
    "\n",
    "OR\n",
    "\n",
    "$C[0, 0] = A[0, 0] \\times B[0, 0]$\n",
    "\n",
    "$C[1, 0] = A[1, 0] \\times B[1, 0]$\n",
    "\n",
    "$C[2, 0] = A[2, 0] \\times B[2, 0]$\n",
    "\n",
    "$C[0, 1] = A[0, 1] \\times B[0, 1]$\n",
    "\n",
    "$C[1, 1] = A[1, 1] \\times B[1, 1]$\n",
    "\n",
    "$C[2, 1] = A[2, 1] \\times B[2, 1]$"
   ]
  },
  {
   "cell_type": "code",
   "execution_count": 8,
   "metadata": {},
   "outputs": [],
   "source": [
    "A = np.array([[1,2,3],[4,6,9],[7,8,9]])\n",
    "B = np.array([[1,2,3],[4,6,9],[7,8,9]])\n",
    "\n",
    "C = A * B"
   ]
  },
  {
   "cell_type": "markdown",
   "metadata": {},
   "source": [
    "## Matrix Division\n",
    "\n",
    "A matrix can only be subtracted like above if they have the same dimensions\n",
    "\n",
    "\n",
    "${C} = \\frac{A}{B}$\n",
    "$$ {A} = \\begin{pmatrix} (a_{1,1},a_{1,2})\\\\ (a_{2,1,},a_{2,2}) \\\\ (a_{3,1},a_{3,2})  \\end{pmatrix}$$\n",
    "$$ {B} = \\begin{pmatrix} (b_{1,1},b_{1,2})\\\\ (b_{2,1,},b_{2,2}) \\\\ (b_{3,1},b_{3,2})  \\end{pmatrix}$$\n",
    "\n",
    "${C} =\\begin{pmatrix} \\frac{{a_{1,1}}}{b_{1,1}},\\frac{a_{1,2}}{b_{1,2}}\\\\ \\frac{a_{2,1,}}{b_{2,1}}, \\frac{a_{2,2}} {b_{2,2}} \\\\ \\frac{a_{3,2}}{b_{3,2}},\\frac{a_{3,3}}{b_{3,3}}   \\end{pmatrix} $\n",
    "\n",
    "\n",
    "OR\n",
    "\n",
    "$C[0, 0] = \\frac{A[0, 0]}{B[0, 0]}$\n",
    "\n",
    "$C[1, 0] = \\frac{A[1, 0]} {B[1, 0]}$\n",
    "\n",
    "$C[2, 0] = \\frac{A[2, 0]}{B[2, 0]}$\n",
    "\n",
    "$C[0, 1] = \\frac{A[0, 1]}{B[0, 1]}$\n",
    "\n",
    "$C[1, 1] = \\frac{A[1, 1]}{B[1, 1]}$\n",
    "\n",
    "$C[2, 1] = \\frac{A[2, 1]}{B[2, 1]}$"
   ]
  },
  {
   "cell_type": "code",
   "execution_count": 9,
   "metadata": {},
   "outputs": [],
   "source": [
    "A = np.array([[1,2,3],[4,6,9],[7,8,9]])\n",
    "B = np.array([[1,2,3],[4,6,9],[7,8,9]])\n",
    "\n",
    "C = A / B"
   ]
  },
  {
   "cell_type": "markdown",
   "metadata": {},
   "source": [
    "## Matrix Dot Product\n",
    "\n",
    "Matrix dot products work in a similar way to the vector dot products and can described in this following formula.\n",
    "\n",
    "\n",
    "$C = A \\cdot B$\n",
    "\n",
    "\n",
    "${C} = \\frac{A}{B}$\n",
    "$$ {A} = \\begin{pmatrix} (a_{1,1},a_{1,2})\\\\ (a_{2,1,},a_{2,2}) \\\\ (a_{3,1},a_{3,2})  \\end{pmatrix}$$\n",
    "$$ {B} = \\begin{pmatrix} (b_{1,1},b_{1,2})\\\\ (b_{2,1,},b_{2,2}) \\\\ (b_{3,1},b_{3,2})  \\end{pmatrix}$$"
   ]
  },
  {
   "cell_type": "code",
   "execution_count": null,
   "metadata": {},
   "outputs": [],
   "source": []
  }
 ],
 "metadata": {
  "kernelspec": {
   "display_name": "Python 3",
   "language": "python",
   "name": "python3"
  },
  "language_info": {
   "codemirror_mode": {
    "name": "ipython",
    "version": 3
   },
   "file_extension": ".py",
   "mimetype": "text/x-python",
   "name": "python",
   "nbconvert_exporter": "python",
   "pygments_lexer": "ipython3",
   "version": "3.6.9"
  }
 },
 "nbformat": 4,
 "nbformat_minor": 4
}
