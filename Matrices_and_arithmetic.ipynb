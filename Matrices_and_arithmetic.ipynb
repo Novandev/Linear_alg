{
 "cells": [
  {
   "cell_type": "markdown",
   "metadata": {},
   "source": [
    "# Matrices!"
   ]
  },
  {
   "cell_type": "markdown",
   "metadata": {},
   "source": [
    "Defined as a two dimensional array fo scalar values with one or more columns or one or more  rows\n",
    "\n",
    "Matrices are usually denoted by an uppercase letter in this case A and entris are usually denoted by subscripts \n",
    "\n",
    "row($i$) and column($_j$)\n",
    "\n",
    "With combined you get \n",
    "\n",
    "$A=((a_{1,1},a_{1,2}),(a_{2,1,},a_{2,2}),(a_{3,1}.a_{3,2}))$\n",
    "$$ A = \\begin{pmatrix} (a_{1,1},a_{1,2})\\\\ (a_{2,1,},a_{2,2}) \\\\ (a_{3,1}.a_{3,2})  \\end{pmatrix}$$\n",
    "\n"
   ]
  }
 ],
 "metadata": {
  "kernelspec": {
   "display_name": "Python 3",
   "language": "python",
   "name": "python3"
  },
  "language_info": {
   "codemirror_mode": {
    "name": "ipython",
    "version": 3
   },
   "file_extension": ".py",
   "mimetype": "text/x-python",
   "name": "python",
   "nbconvert_exporter": "python",
   "pygments_lexer": "ipython3",
   "version": "3.6.9"
  }
 },
 "nbformat": 4,
 "nbformat_minor": 4
}
