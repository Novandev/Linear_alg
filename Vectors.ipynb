{
 "cells": [
  {
   "cell_type": "markdown",
   "metadata": {},
   "source": [
    "## Vectors\n",
    "\n",
    "A vector has the following notation\n",
    "$$v=\\begin{pmatrix} a \\\\b \\end{pmatrix}$$\n",
    "\n",
    "But can also be describe as the following\n",
    "\n",
    "$$v=\\begin{pmatrix} a & b \\end{pmatrix}$$\n",
    "\n",
    "\n",
    "Vectors represent either a row or column of data and are most commonly used to represent y values\n",
    "\n",
    "Example:\n",
    "\n",
    "$$v=\\begin{pmatrix} 0.6 \\\\0.5 \\end{pmatrix}$$"
   ]
  },
  {
   "cell_type": "markdown",
   "metadata": {},
   "source": [
    "## Vector addition,subtraction and multiplication\n",
    "\n",
    "\n",
    "### Scalar\n",
    "Following the ruls for collumns and rows, all vectors can be deivded by a scalar value and rrturn another vector with elementwise operations being perfromed on each of the  elements in the vector"
   ]
  },
  {
   "cell_type": "code",
   "execution_count": 10,
   "metadata": {},
   "outputs": [
    {
     "data": {
      "text/plain": [
       "array([ 2, 56, 66])"
      ]
     },
     "execution_count": 10,
     "metadata": {},
     "output_type": "execute_result"
    }
   ],
   "source": [
    "import numpy as np\n",
    "\n",
    "vector = np.array([2,56,66])\n",
    "scalar = 3"
   ]
  },
  {
   "cell_type": "code",
   "execution_count": 11,
   "metadata": {},
   "outputs": [
    {
     "name": "stdout",
     "output_type": "stream",
     "text": [
      "[ 5 59 69]\n"
     ]
    }
   ],
   "source": [
    "print(vector + 3)"
   ]
  },
  {
   "cell_type": "code",
   "execution_count": 12,
   "metadata": {},
   "outputs": [
    {
     "name": "stdout",
     "output_type": "stream",
     "text": [
      "[-1 53 63]\n"
     ]
    }
   ],
   "source": [
    "print(vector - 3)"
   ]
  },
  {
   "cell_type": "code",
   "execution_count": 14,
   "metadata": {},
   "outputs": [
    {
     "name": "stdout",
     "output_type": "stream",
     "text": [
      "[  6 168 198]\n"
     ]
    }
   ],
   "source": [
    "print(vector * 3)"
   ]
  },
  {
   "cell_type": "code",
   "execution_count": 15,
   "metadata": {},
   "outputs": [
    {
     "name": "stdout",
     "output_type": "stream",
     "text": [
      "[ 0.66666667 18.66666667 22.        ]\n"
     ]
    }
   ],
   "source": [
    "print(vector / 3)"
   ]
  },
  {
   "cell_type": "markdown",
   "metadata": {},
   "source": [
    "## Vector Dot Products (multiplication of vectors)\n",
    "\n",
    "Dot products calculate the sum of vectors of the same length\n",
    "\n",
    "and have the following notation with the following outcome and will product a scalar value\n",
    "$$a=\\begin{pmatrix} 1 \\\\ 2 \\end{pmatrix}$$\n",
    "$$b=\\begin{pmatrix} 3 \\\\ 3 \\end{pmatrix}$$\n",
    "\n",
    "\n",
    "$$c=\\begin{pmatrix} a \\times b \\end{pmatrix}$$\n",
    "\n",
    "=\n",
    "\n",
    "\n",
    "$$c=\\begin{pmatrix} a_{1} \\times b_{1} + a_{2}\\times b_{2} \\end{pmatrix}$$"
   ]
  },
  {
   "cell_type": "code",
   "execution_count": 17,
   "metadata": {},
   "outputs": [
    {
     "data": {
      "text/plain": [
       "11"
      ]
     },
     "execution_count": 17,
     "metadata": {},
     "output_type": "execute_result"
    }
   ],
   "source": [
    "a= np.array([1,2])\n",
    "b = np.array([3,4])\n",
    "\n",
    "c = a.dot(b)\n",
    "c"
   ]
  },
  {
   "cell_type": "markdown",
   "metadata": {},
   "source": [
    "## Vector Norms\n",
    "\n"
   ]
  }
 ],
 "metadata": {
  "kernelspec": {
   "display_name": "Python 3",
   "language": "python",
   "name": "python3"
  },
  "language_info": {
   "codemirror_mode": {
    "name": "ipython",
    "version": 3
   },
   "file_extension": ".py",
   "mimetype": "text/x-python",
   "name": "python",
   "nbconvert_exporter": "python",
   "pygments_lexer": "ipython3",
   "version": "3.6.9"
  }
 },
 "nbformat": 4,
 "nbformat_minor": 4
}
