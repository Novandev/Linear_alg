{
 "cells": [
  {
   "cell_type": "markdown",
   "metadata": {},
   "source": [
    "## Vectors\n",
    "\n",
    "A vector has the following notation\n",
    "\n",
    "$$v=\\begin{pmatrix} a \\\\b \\end{pmatrix}$$\n",
    "\n",
    "But can also be describe as the following\n",
    "\n",
    "$$v=\\begin{pmatrix} a & b \\end{pmatrix}$$\n",
    "\n",
    "\n",
    "Vectors represent either a row or column of data and are most commonly used to represent y values\n",
    "\n",
    "Example:\n",
    "\n",
    "$$v=\\begin{pmatrix} 0.6 \\\\0.5 \\end{pmatrix}$$"
   ]
  },
  {
   "cell_type": "markdown",
   "metadata": {},
   "source": [
    "## Vector addition,subtraction and multiplication\n",
    "\n",
    "\n",
    "### Scalar\n",
    "Following the rules for collumns and rows, all vectors can be deivded by a scalar value and rrturn another vector with elementwise operations being perfromed on each of the  elements in the vector"
   ]
  },
  {
   "cell_type": "code",
   "execution_count": 8,
   "metadata": {},
   "outputs": [],
   "source": [
    "import numpy as np\n",
    "\n",
    "vector = np.array([2,56,66])\n",
    "scalar = 3"
   ]
  },
  {
   "cell_type": "code",
   "execution_count": 2,
   "metadata": {},
   "outputs": [
    {
     "name": "stdout",
     "output_type": "stream",
     "text": [
      "[ 5 59 69]\n"
     ]
    }
   ],
   "source": [
    "print(vector + 3)"
   ]
  },
  {
   "cell_type": "code",
   "execution_count": 3,
   "metadata": {},
   "outputs": [
    {
     "name": "stdout",
     "output_type": "stream",
     "text": [
      "[-1 53 63]\n"
     ]
    }
   ],
   "source": [
    "print(vector - 3)"
   ]
  },
  {
   "cell_type": "code",
   "execution_count": 4,
   "metadata": {},
   "outputs": [
    {
     "name": "stdout",
     "output_type": "stream",
     "text": [
      "[  6 168 198]\n"
     ]
    }
   ],
   "source": [
    "print(vector * 3)"
   ]
  },
  {
   "cell_type": "code",
   "execution_count": 5,
   "metadata": {},
   "outputs": [
    {
     "name": "stdout",
     "output_type": "stream",
     "text": [
      "[ 0.66666667 18.66666667 22.        ]\n"
     ]
    }
   ],
   "source": [
    "print(vector / 3)"
   ]
  },
  {
   "cell_type": "markdown",
   "metadata": {},
   "source": [
    "## Vector Dot Products (multiplication of vectors)\n",
    "\n",
    "Dot products calculate the sum of vectors of the same length\n",
    "\n",
    "and have the following notation with the following outcome and will product a scalar value\n",
    "$$a=\\begin{pmatrix} 1 \\\\ 2 \\end{pmatrix}$$\n",
    "$$b=\\begin{pmatrix} 3 \\\\ 3 \\end{pmatrix}$$\n",
    "\n",
    "\n",
    "$$c=\\begin{pmatrix} a \\times b \\end{pmatrix}$$\n",
    "\n",
    "=\n",
    "\n",
    "\n",
    "$$c=\\begin{pmatrix} a_{1} \\times b_{1} + a_{2}\\times b_{2} \\end{pmatrix}$$"
   ]
  },
  {
   "cell_type": "code",
   "execution_count": 6,
   "metadata": {},
   "outputs": [
    {
     "data": {
      "text/plain": [
       "11"
      ]
     },
     "execution_count": 6,
     "metadata": {},
     "output_type": "execute_result"
    }
   ],
   "source": [
    "a= np.array([1,2])\n",
    "b = np.array([3,4])\n",
    "\n",
    "c = a.dot(b)\n",
    "c"
   ]
  },
  {
   "cell_type": "markdown",
   "metadata": {},
   "source": [
    "## Vector Norms\n",
    "The length of a vector describes the extent of the vector in space, and is also reffered to as the magnitude or the norm\n",
    "\n",
    "The length or magnitude of the vector is also called the vector norm\n",
    "\n",
    "The three norms that we'll go over is:\n",
    "\n",
    "$L^1$ Norm\n",
    "\n",
    "$L^2$ Norm\n",
    "\n",
    "Vector Max Norm\n",
    "\n",
    "\n"
   ]
  },
  {
   "cell_type": "markdown",
   "metadata": {},
   "source": [
    "## $L^1$ Norm\n",
    "\n",
    "\n",
    "AKA the Mathattan norm, the Taxicab norm\n",
    "\n",
    "This is a sum of each of the absolute values and is denoted as\n",
    "\n",
    "$L^1(v) = ||v||_1$\n",
    "\n",
    "Where\n",
    "\n",
    "$||v||_1 = |a_1|+ |a_2|...+|a_n|$\n",
    "\n",
    "\n",
    "This comes into practice in several machine learning algorithms where the diffrence between an extremely small value and zero is needed. Also, useful for its mathematical simplicity"
   ]
  },
  {
   "cell_type": "code",
   "execution_count": 15,
   "metadata": {},
   "outputs": [
    {
     "name": "stdout",
     "output_type": "stream",
     "text": [
      "The L1 norm is 30.0\n"
     ]
    }
   ],
   "source": [
    "# L1 norm code\n",
    "\n",
    "from numpy.linalg import norm\n",
    "\n",
    "# to use the norm specify norm with the vecto as the first parmeter, and the numerical operator as the second\n",
    "vector = np.array([2,4,6,8,10])\n",
    "\n",
    "vectors_length_L1_norm = norm(vector,1)\n",
    "print(f'The L1 norm is {vectors_length_L1_norm}')"
   ]
  },
  {
   "cell_type": "markdown",
   "metadata": {},
   "source": [
    "## $L^2$ Norm\n",
    "\n",
    "\n",
    "AKA Euclidean Norm, the most used in machine learning as a regulariztion method to keep coeffecients managable\n",
    "\n",
    "This is a square rooted sum of each of the squares of the values.\n",
    "\n",
    "The equation for calculating this is as follows\n",
    "\n",
    "\n",
    "$L^2(v) = ||v||_2$\n",
    "\n",
    "\n",
    "$||v||_2 = \\sqrt{a_1^2 + a_2^2 + a_3^2...a_n^2}$"
   ]
  },
  {
   "cell_type": "code",
   "execution_count": 17,
   "metadata": {},
   "outputs": [
    {
     "name": "stdout",
     "output_type": "stream",
     "text": [
      "The L2 norm is 14.832396974191326\n"
     ]
    }
   ],
   "source": [
    "vectors_length_L2_norm = norm(vector,2)\n",
    "print(f'The L2 norm is {vectors_length_L2_norm}')"
   ]
  },
  {
   "cell_type": "markdown",
   "metadata": {},
   "source": [
    "## Vector Max Norm\n",
    "\n",
    "This returns the maximum value of the vector in the array, this is used mostly in nueral networks, for max norm regularizaion\n",
    "\n",
    "the equation is listed as:\n",
    "\n",
    "$L^{inf}(v) =||v||_{inf} $\n",
    "\n",
    "How this is calculated is\n",
    "\n",
    "$||v||_{inf} = max{a_1,a_2,a_3}$"
   ]
  },
  {
   "cell_type": "code",
   "execution_count": 20,
   "metadata": {},
   "outputs": [
    {
     "name": "stdout",
     "output_type": "stream",
     "text": [
      "The vector max norm is 10.0\n"
     ]
    }
   ],
   "source": [
    "from math import inf\n",
    "#to use the vector nor, drop the inf from tha math library and the vector into the norm function\n",
    "\n",
    "vector_max_norm = norm(vector,inf)\n",
    "\n",
    "print(f'The vector max norm is {vector_max_norm}')"
   ]
  }
 ],
 "metadata": {
  "kernelspec": {
   "display_name": "Python 3",
   "language": "python",
   "name": "python3"
  },
  "language_info": {
   "codemirror_mode": {
    "name": "ipython",
    "version": 3
   },
   "file_extension": ".py",
   "mimetype": "text/x-python",
   "name": "python",
   "nbconvert_exporter": "python",
   "pygments_lexer": "ipython3",
   "version": "3.6.9"
  }
 },
 "nbformat": 4,
 "nbformat_minor": 4
}
