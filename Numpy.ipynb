{
 "cells": [
  {
   "cell_type": "code",
   "execution_count": 2,
   "metadata": {},
   "outputs": [],
   "source": [
    "import numpy as np"
   ]
  },
  {
   "cell_type": "code",
   "execution_count": 3,
   "metadata": {},
   "outputs": [
    {
     "name": "stdout",
     "output_type": "stream",
     "text": [
      "(5,)\n",
      "int64\n"
     ]
    }
   ],
   "source": [
    "# Let's creat and Np array and get its shape\n",
    "np_list = np.array([1,2,3,4,5])\n",
    "\n",
    "# now lets get its lenght wich should be 5 columns and zero rows\n",
    "print(np_list.shape)\n",
    "# prints the data type of the list\n",
    "print(np_list.dtype)"
   ]
  },
  {
   "cell_type": "markdown",
   "metadata": {},
   "source": [
    "## Creating np arrays"
   ]
  },
  {
   "cell_type": "code",
   "execution_count": 5,
   "metadata": {},
   "outputs": [
    {
     "name": "stdout",
     "output_type": "stream",
     "text": [
      "[[2.15874277e-316 6.94716006e-310 6.94716010e-310]\n",
      " [6.94712916e-310 6.94712916e-310 6.94712916e-310]\n",
      " [6.94712916e-310 6.94716015e-310 3.95252517e-322]]\n",
      "(3, 3)\n",
      "[[[5.09205398e-317 5.39650909e-317 5.39250914e-317]\n",
      "  [3.32653376e-111 4.39453125e-003 1.38494908e+219]\n",
      "  [2.88000001e+002 1.36752682e-312 7.63404877e+149]\n",
      "  ...\n",
      "  [1.33360321e+241 2.74034536e-310 1.17500849e-308]\n",
      "  [8.20436208e-304 3.20578743e-317 1.06559869e-255]\n",
      "  [8.73990349e+245 2.49224026e-306 1.10892017e-296]]\n",
      "\n",
      " [[1.07070186e-296 7.02484160e-292 5.83328478e-302]\n",
      "  [2.21808893e-301 4.22884902e-307 5.62950976e+014]\n",
      "  [4.53799245e+217 8.73555210e+183 6.22649560e+228]\n",
      "  ...\n",
      "  [1.51755021e-110 6.01347002e-154 1.38496744e+219]\n",
      "  [2.49979799e+262 1.06306420e+224 2.43894953e-154]\n",
      "  [6.01347002e-154 3.15474901e+180 1.03156610e+113]]\n",
      "\n",
      " [[6.61175426e+265 6.20651817e+223 2.31594540e+251]\n",
      "  [5.29672261e+180 1.06306398e+224 1.14504952e+243]\n",
      "  [6.01347002e-154 7.13222113e-154 3.28096914e-085]\n",
      "  ...\n",
      "  [1.95322203e+227 6.63068430e+265 1.91452830e+214]\n",
      "  [1.91570334e+227 1.45517163e-152 3.58254538e+246]\n",
      "  [1.43973252e+214 1.93113248e-309 2.78134232e-309]]]\n"
     ]
    }
   ],
   "source": [
    "# np.empty([shape]) will produce a random np array of thes shape\n",
    "a = np.empty([3,3])\n",
    "print(a)\n",
    "print(a.shape)\n",
    "\n",
    "print(np.empty([3,256,3]))"
   ]
  },
  {
   "cell_type": "code",
   "execution_count": 18,
   "metadata": {},
   "outputs": [
    {
     "name": "stdout",
     "output_type": "stream",
     "text": [
      "[[0. 0. 0.]\n",
      " [0. 0. 0.]\n",
      " [0. 0. 0.]]\n",
      "[[1. 1. 1.]\n",
      " [1. 1. 1.]\n",
      " [1. 1. 1.]]\n"
     ]
    }
   ],
   "source": [
    "# Np zeros creates an ap array wof the specified dimensions filled with zeros\n",
    "b = np.zeros([3,3])\n",
    "\n",
    "print(b)\n",
    "\n",
    "# np ones creates a matrix filled with jist ones\n",
    "\n",
    "c = np.ones([3,3])\n",
    "print(c)"
   ]
  },
  {
   "cell_type": "markdown",
   "metadata": {},
   "source": [
    "## Combining arrays"
   ]
  },
  {
   "cell_type": "code",
   "execution_count": 11,
   "metadata": {},
   "outputs": [
    {
     "name": "stdout",
     "output_type": "stream",
     "text": [
      "[[1 2 3]\n",
      " [4 5 6]]\n",
      "(2, 3)\n",
      "[1 2 3 4 5 6]\n"
     ]
    }
   ],
   "source": [
    "#  vertical stack, this is basically adding an exra row to the\n",
    "# vstack takes a tuple\n",
    "\n",
    "array_1 = np.array([1,2,3])\n",
    "\n",
    "array_2 = np.array([4,5,6])\n",
    "\n",
    "\n",
    "matrix = np.vstack((array_1,array_2))\n",
    "\n",
    "print(matrix)\n",
    "print(matrix.shape)\n",
    "# Hstack adds onto a row, thing of adding features to a dataset\n",
    "\n",
    "matrix2 = np.hstack((array_1,array_2))\n",
    "\n",
    "print(matrix2)"
   ]
  },
  {
   "cell_type": "markdown",
   "metadata": {},
   "source": [
    "## Two-Dimensional Indexing"
   ]
  },
  {
   "cell_type": "code",
   "execution_count": 15,
   "metadata": {},
   "outputs": [
    {
     "name": "stdout",
     "output_type": "stream",
     "text": [
      "1\n",
      "[4 5 6]\n"
     ]
    }
   ],
   "source": [
    "# Indexing arrays takes the form of array[0,0] instead of the regular array[0][0]\n",
    "\n",
    "print(matrix[0,0])\n",
    "\n",
    "# To get all of the items in the first row, indexing will look like array[1,]\n",
    "\n",
    "print(matrix[1,])"
   ]
  },
  {
   "cell_type": "markdown",
   "metadata": {},
   "source": [
    "## Two-Dimensional Slicing"
   ]
  },
  {
   "cell_type": "code",
   "execution_count": 21,
   "metadata": {},
   "outputs": [
    {
     "name": "stdout",
     "output_type": "stream",
     "text": [
      "[[11 22]\n",
      " [44 55]\n",
      " [77 88]]\n",
      "[33 66 99]\n"
     ]
    }
   ],
   "source": [
    "data = np.array([\n",
    "[11, 22, 33],\n",
    "[44, 55, 66],\n",
    "[77, 88, 99]])\n",
    "# separate data\n",
    "# In order to get the target(y) values and separate this from the features (X) we need to do some slicing\n",
    "# data[:, :-1] this gets all of the rows(the first : all) and gets all of the columns up to the last column\n",
    "# data[:, -1] this is saying get all of the rows, but only the first column\n",
    "X, y = data[:, :-1], data[:, -1]\n",
    "print(X)\n",
    "print(y)\n"
   ]
  },
  {
   "cell_type": "code",
   "execution_count": 22,
   "metadata": {},
   "outputs": [
    {
     "name": "stdout",
     "output_type": "stream",
     "text": [
      "[[11 22 33]\n",
      " [44 55 66]]\n",
      "[[77 88 99]]\n"
     ]
    }
   ],
   "source": [
    "split = 2\n",
    "train,test = data[:split,:],data[split:,:]\n",
    "print(train)\n",
    "print(test)"
   ]
  },
  {
   "cell_type": "markdown",
   "metadata": {},
   "source": [
    "## Array Reshaping"
   ]
  },
  {
   "cell_type": "code",
   "execution_count": 25,
   "metadata": {},
   "outputs": [
    {
     "name": "stdout",
     "output_type": "stream",
     "text": [
      "(5,)\n"
     ]
    }
   ],
   "source": [
    "# Array reshaping is essential to how some algorithms expect data to come in in libraies such as sklearn\n",
    "\n",
    "data = np.array([11, 22, 33, 44, 55])\n",
    "print(data.shape)"
   ]
  },
  {
   "cell_type": "code",
   "execution_count": 28,
   "metadata": {},
   "outputs": [
    {
     "name": "stdout",
     "output_type": "stream",
     "text": [
      "[[11]\n",
      " [22]\n",
      " [33]\n",
      " [44]\n",
      " [55]]\n"
     ]
    }
   ],
   "source": [
    "# Let's reshape this into a 2 which will flip the array over on its access and make every element into its own array\n",
    "print(data.reshape((data.shape[0],1)))"
   ]
  },
  {
   "cell_type": "code",
   "execution_count": 53,
   "metadata": {},
   "outputs": [
    {
     "name": "stdout",
     "output_type": "stream",
     "text": [
      "[[ 1  2  3]\n",
      " [ 5  6  7]\n",
      " [ 9 10 11]]\n",
      "[[ 4]\n",
      " [ 8]\n",
      " [12]]\n"
     ]
    }
   ],
   "source": [
    "# let's combine this\n",
    "\n",
    "data =np.array([[1,2,3,4],\n",
    "      [5,6,7,8],\n",
    "      [9,10,11,12]])\n",
    "\n",
    "split = 2\n",
    "X= data[:,:-1]\n",
    "y = data[:,-1]\n",
    "print(X)\n",
    "\n",
    "# reshape the data\n",
    "y = y.reshape((y.shape[0],1))\n",
    "print(y)"
   ]
  },
  {
   "cell_type": "markdown",
   "metadata": {},
   "source": [
    "## Lets reshape a 2d array unto a 3 d array and show the results"
   ]
  },
  {
   "cell_type": "code",
   "execution_count": 58,
   "metadata": {},
   "outputs": [
    {
     "name": "stdout",
     "output_type": "stream",
     "text": [
      "3\n",
      "4\n",
      "(3, 4, 1)\n",
      "[[[ 1]\n",
      "  [ 2]\n",
      "  [ 3]\n",
      "  [ 4]]\n",
      "\n",
      " [[ 5]\n",
      "  [ 6]\n",
      "  [ 7]\n",
      "  [ 8]]\n",
      "\n",
      " [[ 9]\n",
      "  [10]\n",
      "  [11]\n",
      "  [12]]]\n"
     ]
    }
   ],
   "source": [
    "# What this will do is reshape the array so that there will only be a single digit\n",
    "# in every array for every original array\n",
    "\n",
    "\n",
    "print(data.shape[0])\n",
    "print(data.shape[1])\n",
    "\n",
    "data = data.reshape((data.shape[0], data.shape[1], 1))\n",
    "print(data.shape)\n",
    "print(data)"
   ]
  },
  {
   "cell_type": "markdown",
   "metadata": {},
   "source": [
    "## Array Broadcasting\n",
    "\n",
    "As a review, arrays of different sizes cant be used as handy in arithmetic\n",
    "so for the smaller array we give it the same dimensions as the larger"
   ]
  },
  {
   "cell_type": "code",
   "execution_count": 62,
   "metadata": {},
   "outputs": [
    {
     "name": "stdout",
     "output_type": "stream",
     "text": [
      "[[2 3 4]\n",
      " [5 6 7]]\n",
      "[[ 3  5  7]\n",
      " [ 6  8 10]]\n"
     ]
    }
   ],
   "source": [
    "a= np.array([[1,2,3],[4,5,6]])\n",
    "b= np.array([1])\n",
    "print(a+b)\n",
    "c = np.array([2,3,4])\n",
    "print(a+c)"
   ]
  }
 ],
 "metadata": {
  "kernelspec": {
   "display_name": "Python 3",
   "language": "python",
   "name": "python3"
  },
  "language_info": {
   "codemirror_mode": {
    "name": "ipython",
    "version": 3
   },
   "file_extension": ".py",
   "mimetype": "text/x-python",
   "name": "python",
   "nbconvert_exporter": "python",
   "pygments_lexer": "ipython3",
   "version": "3.6.9"
  }
 },
 "nbformat": 4,
 "nbformat_minor": 4
}
