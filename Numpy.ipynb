{
 "cells": [
  {
   "cell_type": "code",
   "execution_count": 6,
   "metadata": {},
   "outputs": [],
   "source": [
    "import numpy as np"
   ]
  },
  {
   "cell_type": "code",
   "execution_count": 7,
   "metadata": {},
   "outputs": [
    {
     "name": "stdout",
     "output_type": "stream",
     "text": [
      "(5,)\n",
      "int64\n"
     ]
    }
   ],
   "source": [
    "# Let's creat and Np array and get its shape\n",
    "np_list = np.array([1,2,3,4,5])\n",
    "\n",
    "# now lets get its lenght wich should be 5 columns and zero rows\n",
    "print(np_list.shape)\n",
    "# prints the data type of the list\n",
    "print(np_list.dtype)"
   ]
  },
  {
   "cell_type": "markdown",
   "metadata": {},
   "source": [
    "## Creating np arrays"
   ]
  },
  {
   "cell_type": "code",
   "execution_count": 8,
   "metadata": {},
   "outputs": [
    {
     "name": "stdout",
     "output_type": "stream",
     "text": [
      "[[1.84724979e-316 6.91714571e-310 6.91714576e-310]\n",
      " [6.91712279e-310 6.91712279e-310 6.91712279e-310]\n",
      " [6.91712279e-310 6.91714580e-310 3.95252517e-322]]\n",
      "(3, 3)\n",
      "[[[ 1.91877508e-316  2.47379808e-091  2.44041296e-154]\n",
      "  [ 1.00838745e+261  4.91347521e+252  5.02065932e+276]\n",
      "  [ 2.63625795e-085  1.05724129e-301  1.45240665e-312]\n",
      "  ...\n",
      "  [ 1.06758000e+224  1.46924108e+195  9.06756708e+271]\n",
      "  [ 3.03181639e+180  1.14199214e+243  9.05280210e+223]\n",
      "  [ 4.91347540e+252  5.02065932e+276  6.01334637e-154]]\n",
      "\n",
      " [[ 9.07652262e+223  5.03931372e+223  3.67289404e+194]\n",
      "  [ 4.44387685e+252  6.01433277e+175  1.46923002e+195]\n",
      "  [ 7.22940565e+159  1.88892019e+219  4.63658219e+228]\n",
      "  ...\n",
      "  [ 9.77824555e+199  6.01334653e-154  6.01347002e-154]\n",
      "  [ 1.69375270e+190  2.35569008e+251  1.14448622e+243]\n",
      "  [ 6.01347002e-154  3.03182642e+180  7.35876461e+223]]\n",
      "\n",
      " [[ 4.82410896e+228  6.01346953e-154  6.01347002e-154]\n",
      "  [ 2.19341581e-152  9.30537465e+199  7.10084082e+194]\n",
      "  [ 1.27734658e-152  1.39806873e-152  3.44304535e-085]\n",
      "  ...\n",
      "  [ 4.94660852e+173 -6.33087541e-275  5.99487515e+173]\n",
      "  [ 7.12326943e+091  6.42072297e+170  2.35512215e+251]\n",
      "  [ 7.22247386e+159  2.13532574e+185  5.76035504e+228]]]\n"
     ]
    }
   ],
   "source": [
    "# np.empty([shape]) will produce a random np array of thes shape\n",
    "a = np.empty([3,3])\n",
    "print(a)\n",
    "print(a.shape)\n",
    "\n",
    "print(np.empty([3,256,3]))"
   ]
  },
  {
   "cell_type": "code",
   "execution_count": 9,
   "metadata": {},
   "outputs": [
    {
     "name": "stdout",
     "output_type": "stream",
     "text": [
      "[[0. 0. 0.]\n",
      " [0. 0. 0.]\n",
      " [0. 0. 0.]]\n",
      "[[1. 1. 1.]\n",
      " [1. 1. 1.]\n",
      " [1. 1. 1.]]\n"
     ]
    }
   ],
   "source": [
    "# Np zeros creates an ap array wof the specified dimensions filled with zeros\n",
    "b = np.zeros([3,3])\n",
    "\n",
    "print(b)\n",
    "\n",
    "# np ones creates a matrix filled with jist ones\n",
    "\n",
    "c = np.ones([3,3])\n",
    "print(c)"
   ]
  },
  {
   "cell_type": "markdown",
   "metadata": {},
   "source": [
    "## Combining arrays"
   ]
  },
  {
   "cell_type": "code",
   "execution_count": 10,
   "metadata": {},
   "outputs": [
    {
     "name": "stdout",
     "output_type": "stream",
     "text": [
      "[[1 2 3]\n",
      " [4 5 6]]\n",
      "(2, 3)\n",
      "[1 2 3 4 5 6]\n"
     ]
    }
   ],
   "source": [
    "#  vertical stack, this is basically adding an exra row to the\n",
    "# vstack takes a tuple\n",
    "\n",
    "array_1 = np.array([1,2,3])\n",
    "\n",
    "array_2 = np.array([4,5,6])\n",
    "\n",
    "\n",
    "matrix = np.vstack((array_1,array_2))\n",
    "\n",
    "print(matrix)\n",
    "print(matrix.shape)\n",
    "# Hstack adds onto a row, thing of adding features to a dataset\n",
    "\n",
    "matrix2 = np.hstack((array_1,array_2))\n",
    "\n",
    "print(matrix2)"
   ]
  },
  {
   "cell_type": "markdown",
   "metadata": {},
   "source": [
    "## Two-Dimensional Indexing"
   ]
  },
  {
   "cell_type": "code",
   "execution_count": 13,
   "metadata": {},
   "outputs": [
    {
     "name": "stdout",
     "output_type": "stream",
     "text": [
      "1\n",
      "[4 5 6]\n"
     ]
    }
   ],
   "source": [
    "# Indexing arrays takes the form of array[0,0] instead of the regular array[0][0]\n",
    "\n",
    "print(matrix[0,0])\n",
    "\n",
    "# To get all of the items in the first row, indexing will look like array[1,]\n",
    "\n",
    "print(matrix[1,])"
   ]
  },
  {
   "cell_type": "code",
   "execution_count": null,
   "metadata": {},
   "outputs": [],
   "source": []
  },
  {
   "cell_type": "code",
   "execution_count": null,
   "metadata": {},
   "outputs": [],
   "source": []
  },
  {
   "cell_type": "markdown",
   "metadata": {},
   "source": [
    "## Two-Dimensional Slicing"
   ]
  },
  {
   "cell_type": "code",
   "execution_count": 14,
   "metadata": {},
   "outputs": [
    {
     "name": "stdout",
     "output_type": "stream",
     "text": [
      "[[11 22]\n",
      " [44 55]\n",
      " [77 88]]\n",
      "[33 66 99]\n"
     ]
    }
   ],
   "source": [
    "data = np.array([\n",
    "[11, 22, 33],\n",
    "[44, 55, 66],\n",
    "[77, 88, 99]])\n",
    "# separate data\n",
    "# In order to get the target(y) values and separate this from the features (X) we need to do some slicing\n",
    "# data[:, :-1] this gets all of the rows(the first : all) and gets all of the columns up to the last column\n",
    "# data[:, -1] this is saying get all of the rows, but only the first column\n",
    "X, y = data[:, :-1], data[:, -1]\n",
    "print(X)\n",
    "print(y)"
   ]
  },
  {
   "cell_type": "code",
   "execution_count": 22,
   "metadata": {},
   "outputs": [
    {
     "name": "stdout",
     "output_type": "stream",
     "text": [
      "[[11 22 33]\n",
      " [44 55 66]]\n",
      "[[77 88 99]]\n"
     ]
    }
   ],
   "source": [
    "split = 2\n",
    "train,test = data[:split,:],data[split:,:]\n",
    "print(train)\n",
    "print(test)"
   ]
  },
  {
   "cell_type": "markdown",
   "metadata": {},
   "source": [
    "## Array Reshaping"
   ]
  },
  {
   "cell_type": "code",
   "execution_count": 25,
   "metadata": {},
   "outputs": [
    {
     "name": "stdout",
     "output_type": "stream",
     "text": [
      "(5,)\n"
     ]
    }
   ],
   "source": [
    "# Array reshaping is essential to how some algorithms expect data to come in in libraies such as sklearn\n",
    "\n",
    "data = np.array([11, 22, 33, 44, 55])\n",
    "print(data.shape)"
   ]
  },
  {
   "cell_type": "code",
   "execution_count": 28,
   "metadata": {},
   "outputs": [
    {
     "name": "stdout",
     "output_type": "stream",
     "text": [
      "[[11]\n",
      " [22]\n",
      " [33]\n",
      " [44]\n",
      " [55]]\n"
     ]
    }
   ],
   "source": [
    "# Let's reshape this into a 2 which will flip the array over on its access and make every element into its own array\n",
    "print(data.reshape((data.shape[0],1)))"
   ]
  },
  {
   "cell_type": "code",
   "execution_count": 53,
   "metadata": {},
   "outputs": [
    {
     "name": "stdout",
     "output_type": "stream",
     "text": [
      "[[ 1  2  3]\n",
      " [ 5  6  7]\n",
      " [ 9 10 11]]\n",
      "[[ 4]\n",
      " [ 8]\n",
      " [12]]\n"
     ]
    }
   ],
   "source": [
    "# let's combine this\n",
    "\n",
    "data =np.array([[1,2,3,4],\n",
    "      [5,6,7,8],\n",
    "      [9,10,11,12]])\n",
    "\n",
    "split = 2\n",
    "X= data[:,:-1]\n",
    "y = data[:,-1]\n",
    "print(X)\n",
    "\n",
    "# reshape the data\n",
    "y = y.reshape((y.shape[0],1))\n",
    "print(y)"
   ]
  },
  {
   "cell_type": "markdown",
   "metadata": {},
   "source": [
    "## Lets reshape a 2d array unto a 3 d array and show the results"
   ]
  },
  {
   "cell_type": "code",
   "execution_count": 58,
   "metadata": {},
   "outputs": [
    {
     "name": "stdout",
     "output_type": "stream",
     "text": [
      "3\n",
      "4\n",
      "(3, 4, 1)\n",
      "[[[ 1]\n",
      "  [ 2]\n",
      "  [ 3]\n",
      "  [ 4]]\n",
      "\n",
      " [[ 5]\n",
      "  [ 6]\n",
      "  [ 7]\n",
      "  [ 8]]\n",
      "\n",
      " [[ 9]\n",
      "  [10]\n",
      "  [11]\n",
      "  [12]]]\n"
     ]
    }
   ],
   "source": [
    "# What this will do is reshape the array so that there will only be a single digit\n",
    "# in every array for every original array\n",
    "\n",
    "\n",
    "print(data.shape[0])\n",
    "print(data.shape[1])\n",
    "\n",
    "data = data.reshape((data.shape[0], data.shape[1], 1))\n",
    "print(data.shape)\n",
    "print(data)"
   ]
  },
  {
   "cell_type": "markdown",
   "metadata": {},
   "source": [
    "## Array Broadcasting\n",
    "\n",
    "As a review, arrays of different sizes cant be used as handy in arithmetic\n",
    "so for the smaller array we give it the same dimensions as the larger"
   ]
  },
  {
   "cell_type": "code",
   "execution_count": 62,
   "metadata": {},
   "outputs": [
    {
     "name": "stdout",
     "output_type": "stream",
     "text": [
      "[[2 3 4]\n",
      " [5 6 7]]\n",
      "[[ 3  5  7]\n",
      " [ 6  8 10]]\n"
     ]
    }
   ],
   "source": [
    "a= np.array([[1,2,3],[4,5,6]])\n",
    "b= np.array([1])\n",
    "print(a+b)\n",
    "c = np.array([2,3,4])\n",
    "print(a+c)"
   ]
  }
 ],
 "metadata": {
  "kernelspec": {
   "display_name": "Python 3",
   "language": "python",
   "name": "python3"
  },
  "language_info": {
   "codemirror_mode": {
    "name": "ipython",
    "version": 3
   },
   "file_extension": ".py",
   "mimetype": "text/x-python",
   "name": "python",
   "nbconvert_exporter": "python",
   "pygments_lexer": "ipython3",
   "version": "3.6.9"
  }
 },
 "nbformat": 4,
 "nbformat_minor": 4
}
