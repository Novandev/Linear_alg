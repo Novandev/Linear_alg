{
 "cells": [
  {
   "cell_type": "code",
   "execution_count": 2,
   "metadata": {},
   "outputs": [],
   "source": [
    "import numpy as np"
   ]
  },
  {
   "cell_type": "code",
   "execution_count": 3,
   "metadata": {},
   "outputs": [
    {
     "name": "stdout",
     "output_type": "stream",
     "text": [
      "(5,)\n",
      "int64\n"
     ]
    }
   ],
   "source": [
    "# Let's creat and Np array and get its shape\n",
    "np_list = np.array([1,2,3,4,5])\n",
    "\n",
    "# now lets get its lenght wich should be 5 columns and zero rows\n",
    "print(np_list.shape)\n",
    "# prints the data type of the list\n",
    "print(np_list.dtype)"
   ]
  },
  {
   "cell_type": "markdown",
   "metadata": {},
   "source": [
    "## Creating np arrays"
   ]
  },
  {
   "cell_type": "code",
   "execution_count": 4,
   "metadata": {},
   "outputs": [
    {
     "name": "stdout",
     "output_type": "stream",
     "text": [
      "[[2.42979666e-316 6.91310861e-310 6.91310866e-310]\n",
      " [6.91309760e-310 6.91309760e-310 6.91309760e-310]\n",
      " [6.91309760e-310 6.91310871e-310 3.95252517e-322]]\n",
      "(3, 3)\n",
      "[[[ 2.49965083e-316  9.52661951e-292  3.69602929e-309]\n",
      "  [ 5.25185407e+170  2.45591948e+198  1.21906099e-152]\n",
      "  [ 2.28896110e+243  4.52351123e+257  1.33856863e-152]\n",
      "  ...\n",
      "  [ 1.06079535e-153  2.13780332e+161  5.03128776e+180]\n",
      "  [ 7.29143969e-130  1.05019719e-153  7.54516493e-095]\n",
      "  [ 2.65053637e-129  2.70444787e-308  3.38460953e+125]]\n",
      "\n",
      " [[ 8.66639636e-307  0.00000000e+000  3.62604445e-217]\n",
      "  [ 4.33931561e-313  5.83350288e-302  1.60562873e-296]\n",
      "  [ 9.98240035e-110  4.55695127e-303  1.82960175e-307]\n",
      "  ...\n",
      "  [ 6.19062304e+223  1.67437932e+243  1.71010347e+214]\n",
      "  [ 7.22762050e+159  2.04740487e+161  6.61175426e+265]\n",
      "  [ 2.31554970e-152  1.67793284e+243  1.46922886e+195]]\n",
      "\n",
      " [[ 1.72965980e+156  3.92386677e+252  1.28014460e-152]\n",
      "  [ 1.69593260e-152  1.46922886e+195  5.48607088e+241]\n",
      "  [ 1.21697546e-152  6.47514828e+170  2.66061854e-260]\n",
      "  ...\n",
      "  [ 4.63380304e+228  2.12102825e-309  1.22855163e-235]\n",
      "  [ 1.30921210e-301  1.33360474e+241  6.70409404e+199]\n",
      "  [ 8.93327025e-310 -2.34140335e-258  8.34889297e-312]]]\n"
     ]
    }
   ],
   "source": [
    "# np.empty([shape]) will produce a random np array of thes shape\n",
    "a = np.empty([3,3])\n",
    "print(a)\n",
    "print(a.shape)\n",
    "\n",
    "print(np.empty([3,256,3]))"
   ]
  },
  {
   "cell_type": "code",
   "execution_count": 5,
   "metadata": {},
   "outputs": [
    {
     "name": "stdout",
     "output_type": "stream",
     "text": [
      "[[0. 0. 0.]\n",
      " [0. 0. 0.]\n",
      " [0. 0. 0.]]\n",
      "[[1. 1. 1.]\n",
      " [1. 1. 1.]\n",
      " [1. 1. 1.]]\n"
     ]
    }
   ],
   "source": [
    "# Np zeros creates an ap array wof the specified dimensions filled with zeros\n",
    "b = np.zeros([3,3])\n",
    "\n",
    "print(b)\n",
    "\n",
    "# np ones creates a matrix filled with jist ones\n",
    "\n",
    "c = np.ones([3,3])\n",
    "print(c)"
   ]
  },
  {
   "cell_type": "markdown",
   "metadata": {},
   "source": [
    "## Combining arrays"
   ]
  },
  {
   "cell_type": "code",
   "execution_count": 6,
   "metadata": {},
   "outputs": [
    {
     "name": "stdout",
     "output_type": "stream",
     "text": [
      "[[1 2 3]\n",
      " [4 5 6]]\n",
      "(2, 3)\n",
      "[1 2 3 4 5 6]\n"
     ]
    }
   ],
   "source": [
    "#  vertical stack, this is basically adding an exra row to the\n",
    "# vstack takes a tuple\n",
    "\n",
    "array_1 = np.array([1,2,3])\n",
    "\n",
    "array_2 = np.array([4,5,6])\n",
    "\n",
    "\n",
    "matrix = np.vstack((array_1,array_2))\n",
    "\n",
    "print(matrix)\n",
    "print(matrix.shape)\n",
    "# Hstack adds onto a row, thing of adding features to a dataset\n",
    "\n",
    "matrix2 = np.hstack((array_1,array_2))\n",
    "\n",
    "print(matrix2)"
   ]
  },
  {
   "cell_type": "markdown",
   "metadata": {},
   "source": [
    "## Two-Dimensional Indexing"
   ]
  },
  {
   "cell_type": "code",
   "execution_count": 11,
   "metadata": {},
   "outputs": [
    {
     "name": "stdout",
     "output_type": "stream",
     "text": [
      "1\n",
      "[4 5 6]\n"
     ]
    }
   ],
   "source": [
    "# Indexing arrays takes the form of array[0,0] instead of the regular array[0][0]\n",
    "\n",
    "print(matrix[0,0])\n",
    "\n",
    "# To get all of the items in the first row, indexing will look like array[1,]\n",
    "\n",
    "print(matrix[1,])"
   ]
  },
  {
   "cell_type": "code",
   "execution_count": null,
   "metadata": {},
   "outputs": [],
   "source": []
  },
  {
   "cell_type": "code",
   "execution_count": null,
   "metadata": {},
   "outputs": [],
   "source": []
  },
  {
   "cell_type": "markdown",
   "metadata": {},
   "source": [
    "## Two-Dimensional Slicing"
   ]
  },
  {
   "cell_type": "code",
   "execution_count": 14,
   "metadata": {},
   "outputs": [
    {
     "name": "stdout",
     "output_type": "stream",
     "text": [
      "[[11 22]\n",
      " [44 55]\n",
      " [77 88]]\n",
      "[33 66 99]\n"
     ]
    }
   ],
   "source": [
    "data = np.array([\n",
    "[11, 22, 33],\n",
    "[44, 55, 66],\n",
    "[77, 88, 99]])\n",
    "# separate data\n",
    "# In order to get the target(y) values and separate this from the features (X) we need to do some slicing\n",
    "# data[:, :-1] this gets all of the rows(the first : all) and gets all of the columns up to the last column\n",
    "# data[:, -1] this is saying get all of the rows, but only the first column\n",
    "X, y = data[:, :-1], data[:, -1]\n",
    "print(X)\n",
    "print(y)"
   ]
  },
  {
   "cell_type": "code",
   "execution_count": 22,
   "metadata": {},
   "outputs": [
    {
     "name": "stdout",
     "output_type": "stream",
     "text": [
      "[[11 22 33]\n",
      " [44 55 66]]\n",
      "[[77 88 99]]\n"
     ]
    }
   ],
   "source": [
    "split = 2\n",
    "train,test = data[:split,:],data[split:,:]\n",
    "print(train)\n",
    "print(test)"
   ]
  },
  {
   "cell_type": "markdown",
   "metadata": {},
   "source": [
    "## Array Reshaping"
   ]
  },
  {
   "cell_type": "code",
   "execution_count": 25,
   "metadata": {},
   "outputs": [
    {
     "name": "stdout",
     "output_type": "stream",
     "text": [
      "(5,)\n"
     ]
    }
   ],
   "source": [
    "# Array reshaping is essential to how some algorithms expect data to come in in libraies such as sklearn\n",
    "\n",
    "data = np.array([11, 22, 33, 44, 55])\n",
    "print(data.shape)"
   ]
  },
  {
   "cell_type": "code",
   "execution_count": 28,
   "metadata": {},
   "outputs": [
    {
     "name": "stdout",
     "output_type": "stream",
     "text": [
      "[[11]\n",
      " [22]\n",
      " [33]\n",
      " [44]\n",
      " [55]]\n"
     ]
    }
   ],
   "source": [
    "# Let's reshape this into a 2d which will flip the array over on its axis and make every element into its own array\n",
    "print(data.reshape((data.shape[0],1)))"
   ]
  },
  {
   "cell_type": "code",
   "execution_count": 1,
   "metadata": {},
   "outputs": [
    {
     "ename": "NameError",
     "evalue": "name 'np' is not defined",
     "output_type": "error",
     "traceback": [
      "\u001b[0;31m------------------------------------------------------------------------\u001b[0m",
      "\u001b[0;31mNameError\u001b[0m                              Traceback (most recent call last)",
      "\u001b[0;32m<ipython-input-1-c90e645e7834>\u001b[0m in \u001b[0;36m<module>\u001b[0;34m\u001b[0m\n\u001b[1;32m      1\u001b[0m \u001b[0;31m# let's combine this\u001b[0m\u001b[0;34m\u001b[0m\u001b[0;34m\u001b[0m\u001b[0;34m\u001b[0m\u001b[0m\n\u001b[1;32m      2\u001b[0m \u001b[0;34m\u001b[0m\u001b[0m\n\u001b[0;32m----> 3\u001b[0;31m data = np.array([[1,2,3,4],\n\u001b[0m\u001b[1;32m      4\u001b[0m       \u001b[0;34m[\u001b[0m\u001b[0;36m5\u001b[0m\u001b[0;34m,\u001b[0m\u001b[0;36m6\u001b[0m\u001b[0;34m,\u001b[0m\u001b[0;36m7\u001b[0m\u001b[0;34m,\u001b[0m\u001b[0;36m8\u001b[0m\u001b[0;34m]\u001b[0m\u001b[0;34m,\u001b[0m\u001b[0;34m\u001b[0m\u001b[0;34m\u001b[0m\u001b[0m\n\u001b[1;32m      5\u001b[0m       [9,10,11,12]])\n",
      "\u001b[0;31mNameError\u001b[0m: name 'np' is not defined"
     ]
    }
   ],
   "source": [
    "# let's combine this\n",
    "\n",
    "data = np.array([[1,2,3,4],\n",
    "      [5,6,7,8],\n",
    "      [9,10,11,12]])\n",
    "\n",
    "split = 2\n",
    "X= data[:,:-1]\n",
    "y = data[:,-1]\n",
    "print(X)\n",
    "\n",
    "# reshape the data\n",
    "y = y.reshape((y.shape[0],1))\n",
    "print(y)"
   ]
  },
  {
   "cell_type": "markdown",
   "metadata": {},
   "source": [
    "## Lets reshape a 2d array unto a 3 d array and show the results"
   ]
  },
  {
   "cell_type": "code",
   "execution_count": 4,
   "metadata": {},
   "outputs": [
    {
     "name": "stdout",
     "output_type": "stream",
     "text": [
      "(3, 4, 1)\n",
      "3\n",
      "4\n",
      "(3, 4, 1)\n",
      "[[[ 1]\n",
      "  [ 2]\n",
      "  [ 3]\n",
      "  [ 4]]\n",
      "\n",
      " [[ 5]\n",
      "  [ 6]\n",
      "  [ 7]\n",
      "  [ 8]]\n",
      "\n",
      " [[ 9]\n",
      "  [10]\n",
      "  [11]\n",
      "  [12]]]\n"
     ]
    }
   ],
   "source": [
    "# What this will do is reshape the array so that there will only be a single digit\n",
    "# in every array for every original array\n",
    "\n",
    "print(data.shape)\n",
    "print(data.shape[0])\n",
    "print(data.shape[1])\n",
    "\n",
    "data = data.reshape((data.shape[0], data.shape[1], 1))\n",
    "print(data.shape)\n",
    "print(data)"
   ]
  },
  {
   "cell_type": "markdown",
   "metadata": {},
   "source": [
    "## Array Broadcasting\n",
    "\n",
    "As a review, arrays of different sizes cant be used as handy in arithmetic\n",
    "so for the smaller array we give it the same dimensions as the larger"
   ]
  },
  {
   "cell_type": "code",
   "execution_count": 62,
   "metadata": {},
   "outputs": [
    {
     "name": "stdout",
     "output_type": "stream",
     "text": [
      "[[2 3 4]\n",
      " [5 6 7]]\n",
      "[[ 3  5  7]\n",
      " [ 6  8 10]]\n"
     ]
    }
   ],
   "source": [
    "a= np.array([[1,2,3],[4,5,6]])\n",
    "b= np.array([1])\n",
    "print(a+b)\n",
    "c = np.array([2,3,4])\n",
    "print(a+c)"
   ]
  }
 ],
 "metadata": {
  "kernelspec": {
   "display_name": "Python 3",
   "language": "python",
   "name": "python3"
  },
  "language_info": {
   "codemirror_mode": {
    "name": "ipython",
    "version": 3
   },
   "file_extension": ".py",
   "mimetype": "text/x-python",
   "name": "python",
   "nbconvert_exporter": "python",
   "pygments_lexer": "ipython3",
   "version": "3.6.10"
  }
 },
 "nbformat": 4,
 "nbformat_minor": 4
}
